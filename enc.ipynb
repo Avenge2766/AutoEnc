{
  "nbformat": 4,
  "nbformat_minor": 0,
  "metadata": {
    "colab": {
      "name": "enc.ipynb",
      "provenance": [],
      "authorship_tag": "ABX9TyN6Vm5UP7eFHKRqvoli7SAe",
      "include_colab_link": true
    },
    "kernelspec": {
      "name": "python3",
      "display_name": "Python 3"
    }
  },
  "cells": [
    {
      "cell_type": "markdown",
      "metadata": {
        "id": "view-in-github",
        "colab_type": "text"
      },
      "source": [
        "<a href=\"https://colab.research.google.com/github/Avenge2766/AutoEnc/blob/master/enc.ipynb\" target=\"_parent\"><img src=\"https://colab.research.google.com/assets/colab-badge.svg\" alt=\"Open In Colab\"/></a>"
      ]
    },
    {
      "cell_type": "code",
      "metadata": {
        "id": "h_ISyKki8YfD",
        "colab_type": "code",
        "colab": {}
      },
      "source": [
        "import keras"
      ],
      "execution_count": 0,
      "outputs": []
    },
    {
      "cell_type": "code",
      "metadata": {
        "id": "sxb_dWaI8cKK",
        "colab_type": "code",
        "outputId": "a28e48da-ed2a-40f0-8695-fe91042b78c7",
        "colab": {
          "base_uri": "https://localhost:8080/",
          "height": 36
        }
      },
      "source": [
        "keras.__version__"
      ],
      "execution_count": 0,
      "outputs": [
        {
          "output_type": "execute_result",
          "data": {
            "text/plain": [
              "'2.2.5'"
            ]
          },
          "metadata": {
            "tags": []
          },
          "execution_count": 110
        }
      ]
    },
    {
      "cell_type": "code",
      "metadata": {
        "id": "zhUwAzTS8vBv",
        "colab_type": "code",
        "colab": {}
      },
      "source": [
        "from keras.models import Input,Sequential"
      ],
      "execution_count": 0,
      "outputs": []
    },
    {
      "cell_type": "code",
      "metadata": {
        "id": "QkHfNyAq9XEf",
        "colab_type": "code",
        "colab": {}
      },
      "source": [
        "from keras.layers import Dense"
      ],
      "execution_count": 0,
      "outputs": []
    },
    {
      "cell_type": "code",
      "metadata": {
        "id": "Bg6eqx0O9gVD",
        "colab_type": "code",
        "colab": {}
      },
      "source": [
        "from keras.models import Model"
      ],
      "execution_count": 0,
      "outputs": []
    },
    {
      "cell_type": "code",
      "metadata": {
        "id": "dguwWRl0DrY4",
        "colab_type": "code",
        "colab": {}
      },
      "source": [
        "input_img = Input(shape=(784,))"
      ],
      "execution_count": 0,
      "outputs": []
    },
    {
      "cell_type": "code",
      "metadata": {
        "id": "rOCpn1KGDya5",
        "colab_type": "code",
        "colab": {}
      },
      "source": [
        "middle_enc = 32"
      ],
      "execution_count": 0,
      "outputs": []
    },
    {
      "cell_type": "code",
      "metadata": {
        "id": "v6RInfnFD6IV",
        "colab_type": "code",
        "colab": {}
      },
      "source": [
        "enc = Dense(middle_enc, activation='relu')(input_img)"
      ],
      "execution_count": 0,
      "outputs": []
    },
    {
      "cell_type": "code",
      "metadata": {
        "id": "3tUQ64LfEO6d",
        "colab_type": "code",
        "colab": {}
      },
      "source": [
        "dec = Dense(784, activation = 'sigmoid')(enc)"
      ],
      "execution_count": 0,
      "outputs": []
    },
    {
      "cell_type": "code",
      "metadata": {
        "id": "AMLZEyx6EXcP",
        "colab_type": "code",
        "colab": {}
      },
      "source": [
        "model1 = Model(input_img, dec)"
      ],
      "execution_count": 0,
      "outputs": []
    },
    {
      "cell_type": "code",
      "metadata": {
        "id": "FTR52IBAEc-C",
        "colab_type": "code",
        "colab": {}
      },
      "source": [
        "encoder = Model(input_img, enc)"
      ],
      "execution_count": 0,
      "outputs": []
    },
    {
      "cell_type": "code",
      "metadata": {
        "id": "diU_Q9Y3Eh0o",
        "colab_type": "code",
        "colab": {}
      },
      "source": [
        "encoded_input = Input(shape = (middle_enc,))"
      ],
      "execution_count": 0,
      "outputs": []
    },
    {
      "cell_type": "code",
      "metadata": {
        "id": "S22U7RD8Es2L",
        "colab_type": "code",
        "colab": {}
      },
      "source": [
        "decode_layer = model1.layers[-1]"
      ],
      "execution_count": 0,
      "outputs": []
    },
    {
      "cell_type": "code",
      "metadata": {
        "id": "drMdMt3xFCjy",
        "colab_type": "code",
        "colab": {}
      },
      "source": [
        "decoder = Model(encoded_input, decode_layer(encoded_input))"
      ],
      "execution_count": 0,
      "outputs": []
    },
    {
      "cell_type": "code",
      "metadata": {
        "id": "-klQY0A3FO5G",
        "colab_type": "code",
        "colab": {}
      },
      "source": [
        "model1.compile(optimizer='adadelta', loss='binary_crossentropy')"
      ],
      "execution_count": 0,
      "outputs": []
    },
    {
      "cell_type": "code",
      "metadata": {
        "id": "SfF7ISFcFp1T",
        "colab_type": "code",
        "colab": {}
      },
      "source": [
        "from keras.datasets import mnist\n",
        "import numpy as np"
      ],
      "execution_count": 0,
      "outputs": []
    },
    {
      "cell_type": "code",
      "metadata": {
        "id": "tdP2Jd6MF9ME",
        "colab_type": "code",
        "colab": {}
      },
      "source": [
        "(x_train, y_train),(x_test, y_test) = mnist.load_data()"
      ],
      "execution_count": 0,
      "outputs": []
    },
    {
      "cell_type": "code",
      "metadata": {
        "id": "DwnuC7t4Gn8S",
        "colab_type": "code",
        "colab": {}
      },
      "source": [
        "x_train = x_train.astype('float32')/255 + 0.0015\n",
        "x_test = x_test.astype('float32')/255 + 0.0015\n",
        "x_train = x_train.reshape(len(x_train), np.prod(x_train.shape[1:]))\n",
        "x_test = x_test.reshape(len(x_test), np.prod(x_test.shape[1:]))"
      ],
      "execution_count": 0,
      "outputs": []
    },
    {
      "cell_type": "code",
      "metadata": {
        "id": "RA0lOVG7G3Wb",
        "colab_type": "code",
        "outputId": "63659633-2bd6-44ae-c597-5c08055681af",
        "colab": {
          "base_uri": "https://localhost:8080/",
          "height": 1000
        }
      },
      "source": [
        "model1.fit(x_train, x_train, epochs=45, batch_size=256,shuffle = True, validation_data=(x_test,x_test), verbose=2)"
      ],
      "execution_count": 0,
      "outputs": [
        {
          "output_type": "stream",
          "text": [
            "Train on 60000 samples, validate on 10000 samples\n",
            "Epoch 1/45\n",
            " - 4s - loss: 0.3606 - val_loss: 0.2771\n",
            "Epoch 2/45\n",
            " - 3s - loss: 0.2711 - val_loss: 0.2617\n",
            "Epoch 3/45\n",
            " - 4s - loss: 0.2512 - val_loss: 0.2387\n",
            "Epoch 4/45\n",
            " - 3s - loss: 0.2306 - val_loss: 0.2204\n",
            "Epoch 5/45\n",
            " - 3s - loss: 0.2153 - val_loss: 0.2078\n",
            "Epoch 6/45\n",
            " - 3s - loss: 0.2044 - val_loss: 0.1985\n",
            "Epoch 7/45\n",
            " - 3s - loss: 0.1959 - val_loss: 0.1907\n",
            "Epoch 8/45\n",
            " - 3s - loss: 0.1888 - val_loss: 0.1841\n",
            "Epoch 9/45\n",
            " - 3s - loss: 0.1824 - val_loss: 0.1783\n",
            "Epoch 10/45\n",
            " - 4s - loss: 0.1768 - val_loss: 0.1729\n",
            "Epoch 11/45\n",
            " - 3s - loss: 0.1719 - val_loss: 0.1684\n",
            "Epoch 12/45\n",
            " - 3s - loss: 0.1675 - val_loss: 0.1643\n",
            "Epoch 13/45\n",
            " - 3s - loss: 0.1635 - val_loss: 0.1605\n",
            "Epoch 14/45\n",
            " - 3s - loss: 0.1599 - val_loss: 0.1570\n",
            "Epoch 15/45\n",
            " - 3s - loss: 0.1565 - val_loss: 0.1537\n",
            "Epoch 16/45\n",
            " - 3s - loss: 0.1534 - val_loss: 0.1507\n",
            "Epoch 17/45\n",
            " - 3s - loss: 0.1505 - val_loss: 0.1478\n",
            "Epoch 18/45\n",
            " - 3s - loss: 0.1477 - val_loss: 0.1451\n",
            "Epoch 19/45\n",
            " - 3s - loss: 0.1451 - val_loss: 0.1425\n",
            "Epoch 20/45\n",
            " - 3s - loss: 0.1426 - val_loss: 0.1401\n",
            "Epoch 21/45\n",
            " - 3s - loss: 0.1403 - val_loss: 0.1378\n",
            "Epoch 22/45\n",
            " - 3s - loss: 0.1381 - val_loss: 0.1357\n",
            "Epoch 23/45\n",
            " - 3s - loss: 0.1360 - val_loss: 0.1336\n",
            "Epoch 24/45\n",
            " - 3s - loss: 0.1341 - val_loss: 0.1317\n",
            "Epoch 25/45\n",
            " - 3s - loss: 0.1323 - val_loss: 0.1299\n",
            "Epoch 26/45\n",
            " - 3s - loss: 0.1305 - val_loss: 0.1282\n",
            "Epoch 27/45\n",
            " - 3s - loss: 0.1289 - val_loss: 0.1266\n",
            "Epoch 28/45\n",
            " - 3s - loss: 0.1273 - val_loss: 0.1252\n",
            "Epoch 29/45\n",
            " - 3s - loss: 0.1259 - val_loss: 0.1237\n",
            "Epoch 30/45\n",
            " - 3s - loss: 0.1245 - val_loss: 0.1224\n",
            "Epoch 31/45\n",
            " - 3s - loss: 0.1233 - val_loss: 0.1211\n",
            "Epoch 32/45\n",
            " - 3s - loss: 0.1221 - val_loss: 0.1200\n",
            "Epoch 33/45\n",
            " - 3s - loss: 0.1209 - val_loss: 0.1189\n",
            "Epoch 34/45\n",
            " - 3s - loss: 0.1199 - val_loss: 0.1179\n",
            "Epoch 35/45\n",
            " - 3s - loss: 0.1189 - val_loss: 0.1170\n",
            "Epoch 36/45\n",
            " - 3s - loss: 0.1180 - val_loss: 0.1161\n",
            "Epoch 37/45\n",
            " - 3s - loss: 0.1172 - val_loss: 0.1153\n",
            "Epoch 38/45\n",
            " - 3s - loss: 0.1164 - val_loss: 0.1145\n",
            "Epoch 39/45\n",
            " - 3s - loss: 0.1157 - val_loss: 0.1138\n",
            "Epoch 40/45\n",
            " - 3s - loss: 0.1150 - val_loss: 0.1132\n",
            "Epoch 41/45\n",
            " - 3s - loss: 0.1144 - val_loss: 0.1126\n",
            "Epoch 42/45\n",
            " - 3s - loss: 0.1138 - val_loss: 0.1120\n",
            "Epoch 43/45\n",
            " - 3s - loss: 0.1133 - val_loss: 0.1115\n",
            "Epoch 44/45\n",
            " - 3s - loss: 0.1128 - val_loss: 0.1110\n",
            "Epoch 45/45\n",
            " - 3s - loss: 0.1123 - val_loss: 0.1105\n"
          ],
          "name": "stdout"
        },
        {
          "output_type": "execute_result",
          "data": {
            "text/plain": [
              "<keras.callbacks.History at 0x7f09eedbb588>"
            ]
          },
          "metadata": {
            "tags": []
          },
          "execution_count": 127
        }
      ]
    },
    {
      "cell_type": "code",
      "metadata": {
        "id": "JXkRewr-RAO3",
        "colab_type": "code",
        "colab": {}
      },
      "source": [
        "enc_images = encoder.predict(x_test)\n",
        "dec_images = decoder.predict(enc_images)"
      ],
      "execution_count": 0,
      "outputs": []
    },
    {
      "cell_type": "code",
      "metadata": {
        "id": "Huc66FDLRmak",
        "colab_type": "code",
        "colab": {}
      },
      "source": [
        "import matplotlib.pyplot as plt"
      ],
      "execution_count": 0,
      "outputs": []
    },
    {
      "cell_type": "code",
      "metadata": {
        "id": "JAgsNAlAiIRK",
        "colab_type": "code",
        "outputId": "9f1c0d2a-ee46-43c5-fa1b-40e92155d9ad",
        "colab": {
          "base_uri": "https://localhost:8080/",
          "height": 284
        }
      },
      "source": [
        "plt.imshow(x_test[22].reshape(28,28))"
      ],
      "execution_count": 0,
      "outputs": [
        {
          "output_type": "execute_result",
          "data": {
            "text/plain": [
              "<matplotlib.image.AxesImage at 0x7f09efd1d080>"
            ]
          },
          "metadata": {
            "tags": []
          },
          "execution_count": 130
        },
        {
          "output_type": "display_data",
          "data": {
            "image/png": "[encoded data removed]",
            "text/plain": [
              "<Figure size 432x288 with 1 Axes>"
            ]
          },
          "metadata": {
            "tags": []
          }
        }
      ]
    },
    {
      "cell_type": "code",
      "metadata": {
        "id": "G70KfZw2SJ0J",
        "colab_type": "code",
        "outputId": "c18c23aa-0746-4259-c68b-9b74b42bb161",
        "colab": {
          "base_uri": "https://localhost:8080/",
          "height": 217
        }
      },
      "source": [
        "plt.figure(figsize=(20,4))\n",
        "for i in range(20):\n",
        "  plt.subplot(2, 20, i+1)\n",
        "  plt.imshow(x_test[i].reshape(28,28))\n",
        "  plt.gray()\n",
        "\n",
        "\n",
        "  plt.subplot(2, 20, i+1+20)\n",
        "  plt.imshow(dec_images[i].reshape(28,28))\n",
        "  plt.gray()"
      ],
      "execution_count": 0,
      "outputs": [
        {
          "output_type": "display_data",
          "data": {
            "image/png": "[encoded data removed]",
            "text/plain": [
              "<Figure size 1440x288 with 40 Axes>"
            ]
          },
          "metadata": {
            "tags": []
          }
        }
      ]
    },
    {
      "cell_type": "code",
      "metadata": {
        "id": "LMD-PaRKVqoG",
        "colab_type": "code",
        "colab": {}
      },
      "source": [
        ""
      ],
      "execution_count": 0,
      "outputs": []
    }
  ]
}